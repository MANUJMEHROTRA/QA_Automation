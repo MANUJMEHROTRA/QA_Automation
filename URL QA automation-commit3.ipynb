{
 "cells": [
  {
   "cell_type": "markdown",
   "metadata": {},
   "source": [
    "## URL QA automation"
   ]
  },
  {
   "cell_type": "markdown",
   "metadata": {},
   "source": [
    " __Step 1__: -Importing the Necessary Libraries"
   ]
  },
  {
   "cell_type": "code",
   "execution_count": 18,
   "metadata": {},
   "outputs": [],
   "source": [
    "from urllib.request import urlopen, Request\n",
    "from bs4 import BeautifulSoup\n",
    "import requests\n",
    "import pandas as pd\n",
    "import time\n",
    "import numpy as np"
   ]
  },
  {
   "cell_type": "markdown",
   "metadata": {},
   "source": [
    " __Step 2: - Extracting the links from Email: -__ Using View as WebPage Link of Email we will try to extract the URL(direct link not forward links) from the Email. Along with that We are having one more coloumn for status bit i.e. incae the URL passed is a good __URL__ or __BAD__. \n",
    " \n",
    " __Good URL__: - Any Request status between 200 to 399.\n",
    " __Bad URL__: - Any Request status between 400 to 599.\n",
    " "
   ]
  },
  {
   "cell_type": "code",
   "execution_count": 79,
   "metadata": {},
   "outputs": [
    {
     "name": "stdout",
     "output_type": "stream",
     "text": [
      "Enter the CIMS of the Campaign: 21888\n",
      "Enter the PID of the Campaign: 93567\n",
      "Enter the Market of the Campaign: en-us\n",
      "Enter the View as webpage link For the Email You want To do QA: https://view.engage.windows.com/?qs=44cc33e3e4545cd8418eb82e413767f11c1c369581b1c64ac041c8926cfefdd04312ca32d996e5a2fc5b6cc7dd9702cc5738d2f5e6a2fbe5e1ee2fba6c5ab26f0ff60f155660c3a318daeadb7dfc718b\n"
     ]
    }
   ],
   "source": [
    "CIMS_ID = input(\"Enter the CIMS of the Campaign: \")\n",
    "PID_ID = input(\"Enter the PID of the Campaign: \")\n",
    "market = input(\"Enter the Market of the Campaign: \")\n",
    "file_name = \"URL_QA_Result_CIMS\"+CIMS_ID+\"_PID\"+PID_ID+\"_\"+market+\".csv\"\n",
    "link_ViewAsWebPage = Request(input(\"Enter the View as webpage link For the Email You want To do QA: \"))"
   ]
  },
  {
   "cell_type": "code",
   "execution_count": 82,
   "metadata": {},
   "outputs": [
    {
     "name": "stdout",
     "output_type": "stream",
     "text": [
      "https://view.engage.windows.com/?qs=44cc33e3e4545cd8418eb82e413767f11c1c369581b1c64ac041c8926cfefdd04312ca32d996e5a2fc5b6cc7dd9702cc5738d2f5e6a2fbe5e1ee2fba6c5ab26f0ff60f155660c3a318daeadb7dfc718b\n",
      "https://www.microsoft.com/en-au/p/best-of-bing-2018-exclusive/9nwcjbk967g0?ocid=ema_rmc_win_FY19Goodwill-win-logo\n",
      "https://www.microsoft.com/en-au/p/best-of-bing-2018-exclusive/9nwcjbk967g0?ocid=ema_rmc_win_FY19Goodwill-hero-noncta\n",
      "https://www.microsoft.com/en-au/p/best-of-bing-2018-exclusive/9nwcjbk967g0?ocid=ema_rmc_win_FY19Goodwill-hero-exclus-pos1-cta\n",
      "https://www.microsoft.com/en-au/p/best-of-bing-2018-exclusive/9nwcjbk967g0?ocid=ema_rmc_win_FY19Goodwill-hero-image1-noncta\n",
      "https://www.microsoft.com/en-au/p/best-of-bing-2018-exclusive/9nwcjbk967g0?ocid=ema_rmc_win_FY19Goodwill-hero-image2-noncta\n",
      "https://www.microsoft.com/en-au/p/best-of-bing-2018-exclusive/9nwcjbk967g0?ocid=ema_rmc_win_FY19Goodwill-hero-image3-noncta\n",
      "https://www.microsoft.com/en-au/store/collections/appTopWindowsThemes2018/pc?rtc=1&ocid=ema_rmc_win_FY19Goodwill-mod1-allthemes-noncta\n",
      "https://www.microsoft.com/en-au/store/collections/appTopWindowsThemes2018/pc?rtc=1&ocid=ema_rmc_win_FY19Goodwill-mod1-allthemes-noncta\n",
      "https://www.microsoft.com/en-au/store/collections/appTopWindowsThemes2018/pc?rtc=1&ocid=ema_rmc_win_FY19Goodwill-mod1-allthemes-cta\n",
      "https://www.facebook.com/windows/?ocid=ema_rmc_win_FY19Goodwill-social-fb\n",
      "https://twitter.com/Windows?ocid=ema_rmc_win_FY19Goodwill-social-twitter\n",
      "https://www.instagram.com/windows/?ocid=ema_rmc_win_FY19Goodwill-social-instagram\n",
      "https://www.youtube.com/channel/UCVGOyzms_XJNk_DHqrffXCw?ocid=ema_rmc_win_FY19Goodwill-social-youtube\n",
      "https://www.microsoft.com/en-au/?ocid=ema_rmc_win_FY19Goodwill-footer-mslogo\n",
      "https://account.microsoft.com/profile/communications\n",
      "https://privacy.microsoft.com/en-ca/privacystatement?ocid=ema_rmc_win_FY19Goodwill-footer-privacy\n"
     ]
    }
   ],
   "source": [
    "html = urlopen(link_ViewAsWebPage) # Insert your URL to extract\n",
    "bsObj = BeautifulSoup(html.read());\n",
    "lst_URLOfQA =[]\n",
    "lst_Status = [] \n",
    "for link in bsObj.find_all('a'):\n",
    "    link_redirect = link.get('href')\n",
    "    #print(link_redirect)\n",
    "    data = requests.request(\"GET\", link_redirect)\n",
    "    link_direct = data.url\n",
    "    #link_status = link_direct.getcode()\n",
    "    time.sleep(1)\n",
    "    #lst_Status.append(link_status)\n",
    "    print(link_direct)\n",
    "    lst_URLOfQA.append(link_direct)\n",
    "#print(link_Status)\n",
    "#temp_url = urlopen(Request(link.get('href')))\n",
    "#print(temp_url)\n",
    "#lst_URLOfQA.append(Request(link.get('href')))\n"
   ]
  },
  {
   "cell_type": "code",
   "execution_count": 83,
   "metadata": {},
   "outputs": [
    {
     "name": "stdout",
     "output_type": "stream",
     "text": [
      "['https://www.microsoft.com/en-au/p/best-of-bing-2018-exclusive/9nwcjbk967g0?ocid=ema_rmc_win_FY19Goodwill-win-logo', 'https://www.microsoft.com/en-au/p/best-of-bing-2018-exclusive/9nwcjbk967g0?ocid=ema_rmc_win_FY19Goodwill-hero-noncta', 'https://www.microsoft.com/en-au/p/best-of-bing-2018-exclusive/9nwcjbk967g0?ocid=ema_rmc_win_FY19Goodwill-hero-exclus-pos1-cta', 'https://www.microsoft.com/en-au/p/best-of-bing-2018-exclusive/9nwcjbk967g0?ocid=ema_rmc_win_FY19Goodwill-hero-image1-noncta', 'https://www.microsoft.com/en-au/p/best-of-bing-2018-exclusive/9nwcjbk967g0?ocid=ema_rmc_win_FY19Goodwill-hero-image2-noncta', 'https://www.microsoft.com/en-au/p/best-of-bing-2018-exclusive/9nwcjbk967g0?ocid=ema_rmc_win_FY19Goodwill-hero-image3-noncta', 'https://www.microsoft.com/en-au/store/collections/appTopWindowsThemes2018/pc?rtc=1&ocid=ema_rmc_win_FY19Goodwill-mod1-allthemes-noncta', 'https://www.microsoft.com/en-au/store/collections/appTopWindowsThemes2018/pc?rtc=1&ocid=ema_rmc_win_FY19Goodwill-mod1-allthemes-noncta', 'https://www.microsoft.com/en-au/store/collections/appTopWindowsThemes2018/pc?rtc=1&ocid=ema_rmc_win_FY19Goodwill-mod1-allthemes-cta', 'https://www.facebook.com/windows/?ocid=ema_rmc_win_FY19Goodwill-social-fb', 'https://twitter.com/Windows?ocid=ema_rmc_win_FY19Goodwill-social-twitter', 'https://www.instagram.com/windows/?ocid=ema_rmc_win_FY19Goodwill-social-instagram', 'https://www.youtube.com/channel/UCVGOyzms_XJNk_DHqrffXCw?ocid=ema_rmc_win_FY19Goodwill-social-youtube', 'https://www.microsoft.com/en-au/?ocid=ema_rmc_win_FY19Goodwill-footer-mslogo', 'https://account.microsoft.com/profile/communications', 'https://privacy.microsoft.com/en-ca/privacystatement?ocid=ema_rmc_win_FY19Goodwill-footer-privacy']\n"
     ]
    }
   ],
   "source": [
    "lst_URLOfQA = lst_URLOfQA[1:]\n",
    "print(lst_URLOfQA)"
   ]
  },
  {
   "cell_type": "markdown",
   "metadata": {},
   "source": [
    "__Step 3: - Taking input the of refrence file(So called URL Matrix) as input__"
   ]
  },
  {
   "cell_type": "code",
   "execution_count": 85,
   "metadata": {},
   "outputs": [
    {
     "name": "stdout",
     "output_type": "stream",
     "text": [
      "Enter the path of URL Matrix from your Local Drive: G:\\Python\\QA automation\\QA_Automation-master\\URL_Matrix.xlsx\n"
     ]
    }
   ],
   "source": [
    "excl_URLMatrix = input(\"Enter the path of URL Matrix from your Local Drive: \")"
   ]
  },
  {
   "cell_type": "markdown",
   "metadata": {},
   "source": [
    "__Step 4: -Once got the URL Matrix we will Use \"Placement\" and \"Full URL\" Couloum for comparistion__ "
   ]
  },
  {
   "cell_type": "code",
   "execution_count": 86,
   "metadata": {},
   "outputs": [],
   "source": [
    "data_URLMatrix = pd.read_excel(excl_URLMatrix)"
   ]
  },
  {
   "cell_type": "code",
   "execution_count": 87,
   "metadata": {},
   "outputs": [],
   "source": [
    "df_URLMatrix = pd.DataFrame(data_URLMatrix)"
   ]
  },
  {
   "cell_type": "markdown",
   "metadata": {},
   "source": [
    "__Step 5: - We will try to compare each element of list of \"Email URL\" from the list of \"Full URL\"__"
   ]
  },
  {
   "cell_type": "code",
   "execution_count": 88,
   "metadata": {},
   "outputs": [],
   "source": [
    "lst_FullURL = list(df_URLMatrix[\"Full URL\"])"
   ]
  },
  {
   "cell_type": "code",
   "execution_count": 97,
   "metadata": {},
   "outputs": [],
   "source": [
    "lst_Comparision = [True if lst_FullURL[i] == lst_URLOfQA[i] else False  for i in range(len(lst_FullURL))]"
   ]
  },
  {
   "cell_type": "code",
   "execution_count": 98,
   "metadata": {},
   "outputs": [
    {
     "name": "stdout",
     "output_type": "stream",
     "text": [
      "[True, True, True, True, True, True, True, True, True, True, True, True, True, True, True]\n"
     ]
    }
   ],
   "source": [
    "print(lst_Comparision)"
   ]
  },
  {
   "cell_type": "code",
   "execution_count": 99,
   "metadata": {},
   "outputs": [
    {
     "data": {
      "text/html": [
       "<div>\n",
       "<style scoped>\n",
       "    .dataframe tbody tr th:only-of-type {\n",
       "        vertical-align: middle;\n",
       "    }\n",
       "\n",
       "    .dataframe tbody tr th {\n",
       "        vertical-align: top;\n",
       "    }\n",
       "\n",
       "    .dataframe thead th {\n",
       "        text-align: right;\n",
       "    }\n",
       "</style>\n",
       "<table border=\"1\" class=\"dataframe\">\n",
       "  <thead>\n",
       "    <tr style=\"text-align: right;\">\n",
       "      <th></th>\n",
       "      <th>Placements</th>\n",
       "      <th>Full URL</th>\n",
       "      <th>Destination URL</th>\n",
       "      <th>Comparision</th>\n",
       "    </tr>\n",
       "  </thead>\n",
       "  <tbody>\n",
       "    <tr>\n",
       "      <th>0</th>\n",
       "      <td>Placement 1</td>\n",
       "      <td>https://www.microsoft.com/en-au/p/best-of-bing...</td>\n",
       "      <td>https://www.microsoft.com/en-au/p/best-of-bing...</td>\n",
       "      <td>True</td>\n",
       "    </tr>\n",
       "    <tr>\n",
       "      <th>1</th>\n",
       "      <td>Placement 2</td>\n",
       "      <td>https://www.microsoft.com/en-au/p/best-of-bing...</td>\n",
       "      <td>https://www.microsoft.com/en-au/p/best-of-bing...</td>\n",
       "      <td>True</td>\n",
       "    </tr>\n",
       "    <tr>\n",
       "      <th>2</th>\n",
       "      <td>Placement 3</td>\n",
       "      <td>https://www.microsoft.com/en-au/p/best-of-bing...</td>\n",
       "      <td>https://www.microsoft.com/en-au/p/best-of-bing...</td>\n",
       "      <td>True</td>\n",
       "    </tr>\n",
       "    <tr>\n",
       "      <th>3</th>\n",
       "      <td>Placement 4</td>\n",
       "      <td>https://www.microsoft.com/en-au/p/best-of-bing...</td>\n",
       "      <td>https://www.microsoft.com/en-au/p/best-of-bing...</td>\n",
       "      <td>True</td>\n",
       "    </tr>\n",
       "    <tr>\n",
       "      <th>4</th>\n",
       "      <td>Placement 5</td>\n",
       "      <td>https://www.microsoft.com/en-au/p/best-of-bing...</td>\n",
       "      <td>https://www.microsoft.com/en-au/p/best-of-bing...</td>\n",
       "      <td>True</td>\n",
       "    </tr>\n",
       "  </tbody>\n",
       "</table>\n",
       "</div>"
      ],
      "text/plain": [
       "    Placements                                           Full URL  \\\n",
       "0  Placement 1  https://www.microsoft.com/en-au/p/best-of-bing...   \n",
       "1  Placement 2  https://www.microsoft.com/en-au/p/best-of-bing...   \n",
       "2  Placement 3  https://www.microsoft.com/en-au/p/best-of-bing...   \n",
       "3  Placement 4  https://www.microsoft.com/en-au/p/best-of-bing...   \n",
       "4  Placement 5  https://www.microsoft.com/en-au/p/best-of-bing...   \n",
       "\n",
       "                                     Destination URL Comparision  \n",
       "0  https://www.microsoft.com/en-au/p/best-of-bing...        True  \n",
       "1  https://www.microsoft.com/en-au/p/best-of-bing...        True  \n",
       "2  https://www.microsoft.com/en-au/p/best-of-bing...        True  \n",
       "3  https://www.microsoft.com/en-au/p/best-of-bing...        True  \n",
       "4  https://www.microsoft.com/en-au/p/best-of-bing...        True  "
      ]
     },
     "execution_count": 99,
     "metadata": {},
     "output_type": "execute_result"
    }
   ],
   "source": [
    "df_ResultURL = pd.concat([df_URLMatrix,pd.DataFrame(lst_URLOfQA),pd.DataFrame(lst_Status),pd.DataFrame(lst_Comparision)], axis=1, ignore_index=True, keys = [\"Placement\", \"Orignal URL\", \"Email URL\", \"Status of URL\", \"Comparision\"])\n",
    "df_ResultURL.columns = [\"Placements\", \"Full URL\", \"Destination URL\", \"Comparision\"]\n",
    "df_ResultURL.head()"
   ]
  },
  {
   "cell_type": "code",
   "execution_count": 92,
   "metadata": {},
   "outputs": [],
   "source": [
    "df_ResultURL.to_csv(file_name, sep='^', encoding='utf-8', index=False)"
   ]
  },
  {
   "cell_type": "code",
   "execution_count": null,
   "metadata": {},
   "outputs": [],
   "source": [
    "G:\\Python\\QA automation\\QA_Automation-master\\URL_Matrix.xlsx"
   ]
  },
  {
   "cell_type": "code",
   "execution_count": null,
   "metadata": {},
   "outputs": [],
   "source": [
    "df_URL=pd.DataFrame(lst_URLOfQA, columns = [\"Destination_URL\"])\n",
    "print(df_URL)"
   ]
  }
 ],
 "metadata": {
  "kernelspec": {
   "display_name": "Python 3",
   "language": "python",
   "name": "python3"
  },
  "language_info": {
   "codemirror_mode": {
    "name": "ipython",
    "version": 3
   },
   "file_extension": ".py",
   "mimetype": "text/x-python",
   "name": "python",
   "nbconvert_exporter": "python",
   "pygments_lexer": "ipython3",
   "version": "3.6.6rc1"
  }
 },
 "nbformat": 4,
 "nbformat_minor": 2
}
