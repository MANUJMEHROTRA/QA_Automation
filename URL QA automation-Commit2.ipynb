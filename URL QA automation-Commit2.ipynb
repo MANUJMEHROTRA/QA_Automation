{
 "cells": [
  {
   "cell_type": "markdown",
   "metadata": {},
   "source": [
    "## URL QA automation"
   ]
  },
  {
   "cell_type": "markdown",
   "metadata": {},
   "source": [
    " __Step 1__: -Importing the Necessary Libraries"
   ]
  },
  {
   "cell_type": "code",
   "execution_count": 3,
   "metadata": {},
   "outputs": [],
   "source": [
    "from urllib.request import urlopen, Request\n",
    "from bs4 import BeautifulSoup\n",
    "import requests\n",
    "import pandas as pd\n",
    "import time\n"
   ]
  },
  {
   "cell_type": "markdown",
   "metadata": {},
   "source": [
    " __Step 2: - Extracting the links from Email: -__ Using View as WebPage Link of Email we will try to extract the URL(direct link not forward links) from the Email. Along with that We are having one more coloumn for status bit i.e. incae the URL passed is a good __URL__ or __BAD__. \n",
    " \n",
    " __Good URL__: - Any Request status between 200 to 399.\n",
    " __Bad URL__: - Any Request status between 400 to 599.\n",
    " "
   ]
  },
  {
   "cell_type": "code",
   "execution_count": 4,
   "metadata": {},
   "outputs": [
    {
     "name": "stdout",
     "output_type": "stream",
     "text": [
      "Enter the View as webpage link For the Email You want To do QA: https://view.engage.windows.com/?qs=44cc33e3e4545cd8418eb82e413767f11c1c369581b1c64ac041c8926cfefdd04312ca32d996e5a2fc5b6cc7dd9702cc5738d2f5e6a2fbe5e1ee2fba6c5ab26f0ff60f155660c3a318daeadb7dfc718b\n"
     ]
    }
   ],
   "source": [
    "link_ViewAsWebPage = Request(input(\"Enter the View as webpage link For the Email You want To do QA: \"))"
   ]
  },
  {
   "cell_type": "code",
   "execution_count": 5,
   "metadata": {},
   "outputs": [
    {
     "name": "stdout",
     "output_type": "stream",
     "text": [
      "https://view.engage.windows.com/?qs=44cc33e3e4545cd8418eb82e413767f11c1c369581b1c64ac041c8926cfefdd04312ca32d996e5a2fc5b6cc7dd9702cc5738d2f5e6a2fbe5e1ee2fba6c5ab26f0ff60f155660c3a318daeadb7dfc718b\n",
      "https://www.microsoft.com/en-au/p/best-of-bing-2018-exclusive/9nwcjbk967g0?ocid=ema_rmc_win_FY19Goodwill-win-logo\n",
      "https://www.microsoft.com/en-au/p/best-of-bing-2018-exclusive/9nwcjbk967g0?ocid=ema_rmc_win_FY19Goodwill-hero-noncta\n",
      "https://www.microsoft.com/en-au/p/best-of-bing-2018-exclusive/9nwcjbk967g0?ocid=ema_rmc_win_FY19Goodwill-hero-exclus-pos1-cta\n",
      "https://www.microsoft.com/en-au/p/best-of-bing-2018-exclusive/9nwcjbk967g0?ocid=ema_rmc_win_FY19Goodwill-hero-image1-noncta\n",
      "https://www.microsoft.com/en-au/p/best-of-bing-2018-exclusive/9nwcjbk967g0?ocid=ema_rmc_win_FY19Goodwill-hero-image2-noncta\n",
      "https://www.microsoft.com/en-au/p/best-of-bing-2018-exclusive/9nwcjbk967g0?ocid=ema_rmc_win_FY19Goodwill-hero-image3-noncta\n",
      "https://www.microsoft.com/en-au/store/collections/appTopWindowsThemes2018/pc?rtc=1&ocid=ema_rmc_win_FY19Goodwill-mod1-allthemes-noncta\n",
      "https://www.microsoft.com/en-au/store/collections/appTopWindowsThemes2018/pc?rtc=1&ocid=ema_rmc_win_FY19Goodwill-mod1-allthemes-noncta\n",
      "https://www.microsoft.com/en-au/store/collections/appTopWindowsThemes2018/pc?rtc=1&ocid=ema_rmc_win_FY19Goodwill-mod1-allthemes-cta\n",
      "https://www.facebook.com/windows/?ocid=ema_rmc_win_FY19Goodwill-social-fb\n",
      "https://twitter.com/Windows?ocid=ema_rmc_win_FY19Goodwill-social-twitter\n",
      "https://www.instagram.com/windows/?ocid=ema_rmc_win_FY19Goodwill-social-instagram\n",
      "https://www.youtube.com/channel/UCVGOyzms_XJNk_DHqrffXCw?ocid=ema_rmc_win_FY19Goodwill-social-youtube\n",
      "https://www.microsoft.com/en-au/?ocid=ema_rmc_win_FY19Goodwill-footer-mslogo\n",
      "https://account.microsoft.com/profile/communications\n",
      "https://privacy.microsoft.com/en-ca/privacystatement?ocid=ema_rmc_win_FY19Goodwill-footer-privacy\n",
      "['https://view.engage.windows.com/?qs=44cc33e3e4545cd8418eb82e413767f11c1c369581b1c64ac041c8926cfefdd04312ca32d996e5a2fc5b6cc7dd9702cc5738d2f5e6a2fbe5e1ee2fba6c5ab26f0ff60f155660c3a318daeadb7dfc718b', 'https://www.microsoft.com/en-au/p/best-of-bing-2018-exclusive/9nwcjbk967g0?ocid=ema_rmc_win_FY19Goodwill-win-logo', 'https://www.microsoft.com/en-au/p/best-of-bing-2018-exclusive/9nwcjbk967g0?ocid=ema_rmc_win_FY19Goodwill-hero-noncta', 'https://www.microsoft.com/en-au/p/best-of-bing-2018-exclusive/9nwcjbk967g0?ocid=ema_rmc_win_FY19Goodwill-hero-exclus-pos1-cta', 'https://www.microsoft.com/en-au/p/best-of-bing-2018-exclusive/9nwcjbk967g0?ocid=ema_rmc_win_FY19Goodwill-hero-image1-noncta', 'https://www.microsoft.com/en-au/p/best-of-bing-2018-exclusive/9nwcjbk967g0?ocid=ema_rmc_win_FY19Goodwill-hero-image2-noncta', 'https://www.microsoft.com/en-au/p/best-of-bing-2018-exclusive/9nwcjbk967g0?ocid=ema_rmc_win_FY19Goodwill-hero-image3-noncta', 'https://www.microsoft.com/en-au/store/collections/appTopWindowsThemes2018/pc?rtc=1&ocid=ema_rmc_win_FY19Goodwill-mod1-allthemes-noncta', 'https://www.microsoft.com/en-au/store/collections/appTopWindowsThemes2018/pc?rtc=1&ocid=ema_rmc_win_FY19Goodwill-mod1-allthemes-noncta', 'https://www.microsoft.com/en-au/store/collections/appTopWindowsThemes2018/pc?rtc=1&ocid=ema_rmc_win_FY19Goodwill-mod1-allthemes-cta', 'https://www.facebook.com/windows/?ocid=ema_rmc_win_FY19Goodwill-social-fb', 'https://twitter.com/Windows?ocid=ema_rmc_win_FY19Goodwill-social-twitter', 'https://www.instagram.com/windows/?ocid=ema_rmc_win_FY19Goodwill-social-instagram', 'https://www.youtube.com/channel/UCVGOyzms_XJNk_DHqrffXCw?ocid=ema_rmc_win_FY19Goodwill-social-youtube', 'https://www.microsoft.com/en-au/?ocid=ema_rmc_win_FY19Goodwill-footer-mslogo', 'https://account.microsoft.com/profile/communications', 'https://privacy.microsoft.com/en-ca/privacystatement?ocid=ema_rmc_win_FY19Goodwill-footer-privacy']\n"
     ]
    }
   ],
   "source": [
    "html = urlopen(link_ViewAsWebPage) # Insert your URL to extract\n",
    "bsObj = BeautifulSoup(html.read());\n",
    "lst_URLOfQA =[]\n",
    "lst_Status = [] \n",
    "for link in bsObj.find_all('a'):\n",
    "    link_redirect = link.get('href')\n",
    "    #print(link_redirect)\n",
    "    data = requests.request(\"GET\", link_redirect)\n",
    "    link_direct = data.url\n",
    "    #link_status = link_direct.getcode()\n",
    "    time.sleep(1)\n",
    "    #lst_Status.append(link_status)\n",
    "    print(link_direct)\n",
    "    lst_URLOfQA.append(link_direct)\n",
    "print(lst_URLOfQA)\n",
    "#print(link_Status)\n",
    "df_URL=pd.DataFrame(lst_URLOfQA)\n",
    "\n",
    " \n",
    "    \n",
    "    #temp_url = urlopen(Request(link.get('href')))\n",
    "    #print(temp_url)\n",
    "    #lst_URLOfQA.append(Request(link.get('href')))\n"
   ]
  },
  {
   "cell_type": "code",
   "execution_count": 6,
   "metadata": {},
   "outputs": [
    {
     "name": "stdout",
     "output_type": "stream",
     "text": [
      "                                                    0\n",
      "0   https://view.engage.windows.com/?qs=44cc33e3e4...\n",
      "1   https://www.microsoft.com/en-au/p/best-of-bing...\n",
      "2   https://www.microsoft.com/en-au/p/best-of-bing...\n",
      "3   https://www.microsoft.com/en-au/p/best-of-bing...\n",
      "4   https://www.microsoft.com/en-au/p/best-of-bing...\n",
      "5   https://www.microsoft.com/en-au/p/best-of-bing...\n",
      "6   https://www.microsoft.com/en-au/p/best-of-bing...\n",
      "7   https://www.microsoft.com/en-au/store/collecti...\n",
      "8   https://www.microsoft.com/en-au/store/collecti...\n",
      "9   https://www.microsoft.com/en-au/store/collecti...\n",
      "10  https://www.facebook.com/windows/?ocid=ema_rmc...\n",
      "11  https://twitter.com/Windows?ocid=ema_rmc_win_F...\n",
      "12  https://www.instagram.com/windows/?ocid=ema_rm...\n",
      "13  https://www.youtube.com/channel/UCVGOyzms_XJNk...\n",
      "14  https://www.microsoft.com/en-au/?ocid=ema_rmc_...\n",
      "15  https://account.microsoft.com/profile/communic...\n",
      "16  https://privacy.microsoft.com/en-ca/privacysta...\n"
     ]
    }
   ],
   "source": [
    "print(df_URL)"
   ]
  },
  {
   "cell_type": "markdown",
   "metadata": {},
   "source": [
    "__Step 3: - Taking input the of refrence file(So called URL Matrix) as input__"
   ]
  },
  {
   "cell_type": "code",
   "execution_count": 10,
   "metadata": {},
   "outputs": [
    {
     "name": "stdout",
     "output_type": "stream",
     "text": [
      "Enter the path of URL Matrix from your Local Drive: D:\\Desktop Content\\Windows\\Windows Black Friday Announce.xlsx\n"
     ]
    }
   ],
   "source": [
    "excl_URLMatrix = input(\"Enter the path of URL Matrix from your Local Drive: \")"
   ]
  },
  {
   "cell_type": "markdown",
   "metadata": {},
   "source": [
    "__Step 4: -Once got the URL Matrix we will Use \"Placement\" and \"Full URL\" Couloum for comparistion__ "
   ]
  },
  {
   "cell_type": "code",
   "execution_count": 12,
   "metadata": {},
   "outputs": [
    {
     "ename": "FileNotFoundError",
     "evalue": "[Errno 2] No such file or directory: 'D:\\\\Desktop Content\\\\Windows\\\\Windows Black Friday Announce.xlsx'",
     "output_type": "error",
     "traceback": [
      "\u001b[1;31m---------------------------------------------------------------------------\u001b[0m",
      "\u001b[1;31mFileNotFoundError\u001b[0m                         Traceback (most recent call last)",
      "\u001b[1;32m<ipython-input-12-06b22ff86764>\u001b[0m in \u001b[0;36m<module>\u001b[1;34m()\u001b[0m\n\u001b[1;32m----> 1\u001b[1;33m \u001b[0mdata_URLMatrix\u001b[0m \u001b[1;33m=\u001b[0m \u001b[0mpd\u001b[0m\u001b[1;33m.\u001b[0m\u001b[0mread_excel\u001b[0m\u001b[1;33m(\u001b[0m\u001b[1;34m\"D:\\Desktop Content\\Windows\\Windows Black Friday Announce.xlsx\"\u001b[0m\u001b[1;33m)\u001b[0m\u001b[1;33m\u001b[0m\u001b[0m\n\u001b[0m",
      "\u001b[1;32m~\\AppData\\Local\\Continuum\\anaconda3\\lib\\site-packages\\pandas\\util\\_decorators.py\u001b[0m in \u001b[0;36mwrapper\u001b[1;34m(*args, **kwargs)\u001b[0m\n\u001b[0;32m    176\u001b[0m                 \u001b[1;32melse\u001b[0m\u001b[1;33m:\u001b[0m\u001b[1;33m\u001b[0m\u001b[0m\n\u001b[0;32m    177\u001b[0m                     \u001b[0mkwargs\u001b[0m\u001b[1;33m[\u001b[0m\u001b[0mnew_arg_name\u001b[0m\u001b[1;33m]\u001b[0m \u001b[1;33m=\u001b[0m \u001b[0mnew_arg_value\u001b[0m\u001b[1;33m\u001b[0m\u001b[0m\n\u001b[1;32m--> 178\u001b[1;33m             \u001b[1;32mreturn\u001b[0m \u001b[0mfunc\u001b[0m\u001b[1;33m(\u001b[0m\u001b[1;33m*\u001b[0m\u001b[0margs\u001b[0m\u001b[1;33m,\u001b[0m \u001b[1;33m**\u001b[0m\u001b[0mkwargs\u001b[0m\u001b[1;33m)\u001b[0m\u001b[1;33m\u001b[0m\u001b[0m\n\u001b[0m\u001b[0;32m    179\u001b[0m         \u001b[1;32mreturn\u001b[0m \u001b[0mwrapper\u001b[0m\u001b[1;33m\u001b[0m\u001b[0m\n\u001b[0;32m    180\u001b[0m     \u001b[1;32mreturn\u001b[0m \u001b[0m_deprecate_kwarg\u001b[0m\u001b[1;33m\u001b[0m\u001b[0m\n",
      "\u001b[1;32m~\\AppData\\Local\\Continuum\\anaconda3\\lib\\site-packages\\pandas\\util\\_decorators.py\u001b[0m in \u001b[0;36mwrapper\u001b[1;34m(*args, **kwargs)\u001b[0m\n\u001b[0;32m    176\u001b[0m                 \u001b[1;32melse\u001b[0m\u001b[1;33m:\u001b[0m\u001b[1;33m\u001b[0m\u001b[0m\n\u001b[0;32m    177\u001b[0m                     \u001b[0mkwargs\u001b[0m\u001b[1;33m[\u001b[0m\u001b[0mnew_arg_name\u001b[0m\u001b[1;33m]\u001b[0m \u001b[1;33m=\u001b[0m \u001b[0mnew_arg_value\u001b[0m\u001b[1;33m\u001b[0m\u001b[0m\n\u001b[1;32m--> 178\u001b[1;33m             \u001b[1;32mreturn\u001b[0m \u001b[0mfunc\u001b[0m\u001b[1;33m(\u001b[0m\u001b[1;33m*\u001b[0m\u001b[0margs\u001b[0m\u001b[1;33m,\u001b[0m \u001b[1;33m**\u001b[0m\u001b[0mkwargs\u001b[0m\u001b[1;33m)\u001b[0m\u001b[1;33m\u001b[0m\u001b[0m\n\u001b[0m\u001b[0;32m    179\u001b[0m         \u001b[1;32mreturn\u001b[0m \u001b[0mwrapper\u001b[0m\u001b[1;33m\u001b[0m\u001b[0m\n\u001b[0;32m    180\u001b[0m     \u001b[1;32mreturn\u001b[0m \u001b[0m_deprecate_kwarg\u001b[0m\u001b[1;33m\u001b[0m\u001b[0m\n",
      "\u001b[1;32m~\\AppData\\Local\\Continuum\\anaconda3\\lib\\site-packages\\pandas\\io\\excel.py\u001b[0m in \u001b[0;36mread_excel\u001b[1;34m(io, sheet_name, header, names, index_col, usecols, squeeze, dtype, engine, converters, true_values, false_values, skiprows, nrows, na_values, parse_dates, date_parser, thousands, comment, skipfooter, convert_float, **kwds)\u001b[0m\n\u001b[0;32m    305\u001b[0m \u001b[1;33m\u001b[0m\u001b[0m\n\u001b[0;32m    306\u001b[0m     \u001b[1;32mif\u001b[0m \u001b[1;32mnot\u001b[0m \u001b[0misinstance\u001b[0m\u001b[1;33m(\u001b[0m\u001b[0mio\u001b[0m\u001b[1;33m,\u001b[0m \u001b[0mExcelFile\u001b[0m\u001b[1;33m)\u001b[0m\u001b[1;33m:\u001b[0m\u001b[1;33m\u001b[0m\u001b[0m\n\u001b[1;32m--> 307\u001b[1;33m         \u001b[0mio\u001b[0m \u001b[1;33m=\u001b[0m \u001b[0mExcelFile\u001b[0m\u001b[1;33m(\u001b[0m\u001b[0mio\u001b[0m\u001b[1;33m,\u001b[0m \u001b[0mengine\u001b[0m\u001b[1;33m=\u001b[0m\u001b[0mengine\u001b[0m\u001b[1;33m)\u001b[0m\u001b[1;33m\u001b[0m\u001b[0m\n\u001b[0m\u001b[0;32m    308\u001b[0m \u001b[1;33m\u001b[0m\u001b[0m\n\u001b[0;32m    309\u001b[0m     return io.parse(\n",
      "\u001b[1;32m~\\AppData\\Local\\Continuum\\anaconda3\\lib\\site-packages\\pandas\\io\\excel.py\u001b[0m in \u001b[0;36m__init__\u001b[1;34m(self, io, **kwds)\u001b[0m\n\u001b[0;32m    392\u001b[0m             \u001b[0mself\u001b[0m\u001b[1;33m.\u001b[0m\u001b[0mbook\u001b[0m \u001b[1;33m=\u001b[0m \u001b[0mxlrd\u001b[0m\u001b[1;33m.\u001b[0m\u001b[0mopen_workbook\u001b[0m\u001b[1;33m(\u001b[0m\u001b[0mfile_contents\u001b[0m\u001b[1;33m=\u001b[0m\u001b[0mdata\u001b[0m\u001b[1;33m)\u001b[0m\u001b[1;33m\u001b[0m\u001b[0m\n\u001b[0;32m    393\u001b[0m         \u001b[1;32melif\u001b[0m \u001b[0misinstance\u001b[0m\u001b[1;33m(\u001b[0m\u001b[0mself\u001b[0m\u001b[1;33m.\u001b[0m\u001b[0m_io\u001b[0m\u001b[1;33m,\u001b[0m \u001b[0mcompat\u001b[0m\u001b[1;33m.\u001b[0m\u001b[0mstring_types\u001b[0m\u001b[1;33m)\u001b[0m\u001b[1;33m:\u001b[0m\u001b[1;33m\u001b[0m\u001b[0m\n\u001b[1;32m--> 394\u001b[1;33m             \u001b[0mself\u001b[0m\u001b[1;33m.\u001b[0m\u001b[0mbook\u001b[0m \u001b[1;33m=\u001b[0m \u001b[0mxlrd\u001b[0m\u001b[1;33m.\u001b[0m\u001b[0mopen_workbook\u001b[0m\u001b[1;33m(\u001b[0m\u001b[0mself\u001b[0m\u001b[1;33m.\u001b[0m\u001b[0m_io\u001b[0m\u001b[1;33m)\u001b[0m\u001b[1;33m\u001b[0m\u001b[0m\n\u001b[0m\u001b[0;32m    395\u001b[0m         \u001b[1;32melse\u001b[0m\u001b[1;33m:\u001b[0m\u001b[1;33m\u001b[0m\u001b[0m\n\u001b[0;32m    396\u001b[0m             raise ValueError('Must explicitly set engine if not passing in'\n",
      "\u001b[1;32m~\\AppData\\Local\\Continuum\\anaconda3\\lib\\site-packages\\xlrd\\__init__.py\u001b[0m in \u001b[0;36mopen_workbook\u001b[1;34m(filename, logfile, verbosity, use_mmap, file_contents, encoding_override, formatting_info, on_demand, ragged_rows)\u001b[0m\n\u001b[0;32m    114\u001b[0m         \u001b[0mpeek\u001b[0m \u001b[1;33m=\u001b[0m \u001b[0mfile_contents\u001b[0m\u001b[1;33m[\u001b[0m\u001b[1;33m:\u001b[0m\u001b[0mpeeksz\u001b[0m\u001b[1;33m]\u001b[0m\u001b[1;33m\u001b[0m\u001b[0m\n\u001b[0;32m    115\u001b[0m     \u001b[1;32melse\u001b[0m\u001b[1;33m:\u001b[0m\u001b[1;33m\u001b[0m\u001b[0m\n\u001b[1;32m--> 116\u001b[1;33m         \u001b[1;32mwith\u001b[0m \u001b[0mopen\u001b[0m\u001b[1;33m(\u001b[0m\u001b[0mfilename\u001b[0m\u001b[1;33m,\u001b[0m \u001b[1;34m\"rb\"\u001b[0m\u001b[1;33m)\u001b[0m \u001b[1;32mas\u001b[0m \u001b[0mf\u001b[0m\u001b[1;33m:\u001b[0m\u001b[1;33m\u001b[0m\u001b[0m\n\u001b[0m\u001b[0;32m    117\u001b[0m             \u001b[0mpeek\u001b[0m \u001b[1;33m=\u001b[0m \u001b[0mf\u001b[0m\u001b[1;33m.\u001b[0m\u001b[0mread\u001b[0m\u001b[1;33m(\u001b[0m\u001b[0mpeeksz\u001b[0m\u001b[1;33m)\u001b[0m\u001b[1;33m\u001b[0m\u001b[0m\n\u001b[0;32m    118\u001b[0m     \u001b[1;32mif\u001b[0m \u001b[0mpeek\u001b[0m \u001b[1;33m==\u001b[0m \u001b[1;34mb\"PK\\x03\\x04\"\u001b[0m\u001b[1;33m:\u001b[0m \u001b[1;31m# a ZIP file\u001b[0m\u001b[1;33m\u001b[0m\u001b[0m\n",
      "\u001b[1;31mFileNotFoundError\u001b[0m: [Errno 2] No such file or directory: 'D:\\\\Desktop Content\\\\Windows\\\\Windows Black Friday Announce.xlsx'"
     ]
    }
   ],
   "source": [
    "    data_URLMatrix = pd.read_excel(\"D:\\Desktop Content\\Windows\\Windows Black Friday Announce.xlsx\")"
   ]
  },
  {
   "cell_type": "code",
   "execution_count": null,
   "metadata": {},
   "outputs": [],
   "source": [
    "df_URLMatrix = pd.DataFrame(data_URLMatrix)"
   ]
  },
  {
   "cell_type": "code",
   "execution_count": null,
   "metadata": {},
   "outputs": [],
   "source": [
    "df"
   ]
  }
 ],
 "metadata": {
  "kernelspec": {
   "display_name": "Python 3",
   "language": "python",
   "name": "python3"
  },
  "language_info": {
   "codemirror_mode": {
    "name": "ipython",
    "version": 3
   },
   "file_extension": ".py",
   "mimetype": "text/x-python",
   "name": "python",
   "nbconvert_exporter": "python",
   "pygments_lexer": "ipython3",
   "version": "3.7.0"
  }
 },
 "nbformat": 4,
 "nbformat_minor": 2
}
